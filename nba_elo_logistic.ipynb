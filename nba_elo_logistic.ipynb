{
 "cells": [
  {
   "cell_type": "markdown",
   "metadata": {},
   "source": [
    "# ELO and Logistic Regression Model\n",
    "This notebook loads NBA data from the `data` folder, computes ELO scores, and fits a logistic regression model with LASSO regularization."
   ]
  },
  {
   "cell_type": "code",
   "metadata": {},
   "source": [
    "import pandas as pd\n",
    "import numpy as np\n",
    "import os\n",
    "from sklearn.linear_model import LogisticRegression\n",
    "\n",
    "DATA_FOLDER = os.path.join('coach_risk sensitivity', 'data')\n",
    "csv_files = [f for f in os.listdir(DATA_FOLDER) if f.endswith('.csv')]\n",
    "frames = {f: pd.read_csv(os.path.join(DATA_FOLDER, f)) for f in csv_files}\n",
    "frames"
   ]
  },
  {
   "cell_type": "code",
   "metadata": {},
   "source": [
    "# Combine or select dataset\n",
    "if frames:\n",
    "    df = list(frames.values())[0]\n",
    "else:\n",
    "    df = pd.DataFrame()\n",
    "df.head()"
   ]
  },
  {
   "cell_type": "code",
   "metadata": {},
   "source": [
    "def compute_elo(df, k=20, home_field_advantage=0):\n",
    "    teams = pd.concat([df['HomeTeam'], df['AwayTeam']]).unique()\n",
    "    ratings = {team: 1500 for team in teams}\n",
    "    history = []\n",
    "    for _, row in df.iterrows():\n",
    "        home, away = row['HomeTeam'], row['AwayTeam']\n",
    "        home_rating = ratings.get(home, 1500)\n",
    "        away_rating = ratings.get(away, 1500)\n",
    "        exp_home = 1 / (1 + 10 ** ((away_rating - home_rating + home_field_advantage) / 400))\n",
    "        exp_away = 1 - exp_home\n",
    "        result = row['HomeWin']\n",
    "        ratings[home] += k * (result - exp_home)\n",
    "        ratings[away] += k * ((1 - result) - exp_away)\n",
    "        history.append({\n",
    "            'Date': row.get('Date'),\n",
    "            'HomeTeam': home,\n",
    "            'AwayTeam': away,\n",
    "            'HomeElo': ratings[home],\n",
    "            'AwayElo': ratings[away]\n",
    "        })\n",
    "    return ratings, pd.DataFrame(history)\n",
    "\n",
    "elo_ratings, elo_history = compute_elo(df)\n",
    "elo_history.head()"
   ]
  },
  {
   "cell_type": "code",
   "metadata": {},
   "source": [
    "OUTPUT_ELO_PATH = os.path.join('coach_risk sensitivity', 'data', 'elo_history.csv')\n",
    "elo_history.to_csv(OUTPUT_ELO_PATH, index=False)"
   ]
  },
  {
   "cell_type": "code",
   "metadata": {},
   "source": [
    "if not df.empty:\n",
    "    df = df.assign(EloHome=elo_history['HomeElo'], EloAway=elo_history['AwayElo'])\n",
    "    df['EloProb'] = 1 / (1 + 10 ** ((df['EloAway'] - df['EloHome'])/400))\n",
    "    X = df[['PointDiff', 'SecondsRemaining', 'EloProb']].copy()\n",
    "    X['PointDiff_EloProb'] = X['PointDiff'] * X['EloProb']\n",
    "    X['SecondsRemaining_EloProb'] = X['SecondsRemaining'] * X['EloProb']\n",
    "    X['PointDiff_SecondsRemaining'] = X['PointDiff'] * X['SecondsRemaining']\n",
    "    X['PointDiff_SecondsRemaining_EloProb'] = X['PointDiff'] * X['SecondsRemaining'] * X['EloProb']\n",
    "    y = df['HomeWin']\n",
    "else:\n",
    "    X = pd.DataFrame()\n",
    "    y = pd.Series(dtype=float)\n",
    "model = LogisticRegression(penalty='l1', solver='liblinear')\n",
    "if not X.empty:\n",
    "    model.fit(X, y)\n",
    "model"
   ]
  }
 ],
 "metadata": {
  "kernelspec": {
   "display_name": "Python 3",
   "language": "python",
   "name": "python3"
  },
  "language_info": {
   "name": "python",
   "version": "3.x"
  }
 },
 "nbformat": 4,
 "nbformat_minor": 2
}
